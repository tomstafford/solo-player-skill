{
 "cells": [
  {
   "cell_type": "markdown",
   "metadata": {},
   "source": [
    "## Visualisation for better insights"
   ]
  },
  {
   "cell_type": "markdown",
   "metadata": {},
   "source": [
    "First, I need to read the `.csv` file returned by [our filter code](./filter.ipynb):"
   ]
  },
  {
   "cell_type": "code",
   "execution_count": 2,
   "metadata": {},
   "outputs": [
    {
     "data": {
      "text/html": [
       "<table>\n",
       "<thead><tr><th scope=col>player_id</th><th scope=col>game_id</th><th scope=col>time_end</th><th scope=col>team</th><th scope=col>mean</th><th scope=col>std</th></tr></thead>\n",
       "<tbody>\n",
       "\t<tr><td>1777               </td><td>3299               </td><td>2006-02-14 21:24:28</td><td>1                  </td><td>22.45894           </td><td>7.370519           </td></tr>\n",
       "\t<tr><td>1777               </td><td>5138               </td><td>2006-03-03 03:52:46</td><td>1                  </td><td>16.00676           </td><td>4.276113           </td></tr>\n",
       "\t<tr><td>1777               </td><td>4045               </td><td>2006-02-22 04:59:02</td><td>1                  </td><td>21.38376           </td><td>6.303238           </td></tr>\n",
       "\t<tr><td>1777               </td><td>4806               </td><td>2006-03-02 00:23:36</td><td>3                  </td><td>20.28641           </td><td>4.967406           </td></tr>\n",
       "\t<tr><td>1777               </td><td>3342               </td><td>2006-02-17 21:24:05</td><td>1                  </td><td>21.49398           </td><td>6.963292           </td></tr>\n",
       "\t<tr><td>1777               </td><td>4521               </td><td>2006-02-26 08:16:45</td><td>3                  </td><td>15.16055           </td><td>5.250180           </td></tr>\n",
       "</tbody>\n",
       "</table>\n"
      ],
      "text/latex": [
       "\\begin{tabular}{r|llllll}\n",
       " player\\_id & game\\_id & time\\_end & team & mean & std\\\\\n",
       "\\hline\n",
       "\t 1777                & 3299                & 2006-02-14 21:24:28 & 1                   & 22.45894            & 7.370519           \\\\\n",
       "\t 1777                & 5138                & 2006-03-03 03:52:46 & 1                   & 16.00676            & 4.276113           \\\\\n",
       "\t 1777                & 4045                & 2006-02-22 04:59:02 & 1                   & 21.38376            & 6.303238           \\\\\n",
       "\t 1777                & 4806                & 2006-03-02 00:23:36 & 3                   & 20.28641            & 4.967406           \\\\\n",
       "\t 1777                & 3342                & 2006-02-17 21:24:05 & 1                   & 21.49398            & 6.963292           \\\\\n",
       "\t 1777                & 4521                & 2006-02-26 08:16:45 & 3                   & 15.16055            & 5.250180           \\\\\n",
       "\\end{tabular}\n"
      ],
      "text/markdown": [
       "\n",
       "| player_id | game_id | time_end | team | mean | std |\n",
       "|---|---|---|---|---|---|\n",
       "| 1777                | 3299                | 2006-02-14 21:24:28 | 1                   | 22.45894            | 7.370519            |\n",
       "| 1777                | 5138                | 2006-03-03 03:52:46 | 1                   | 16.00676            | 4.276113            |\n",
       "| 1777                | 4045                | 2006-02-22 04:59:02 | 1                   | 21.38376            | 6.303238            |\n",
       "| 1777                | 4806                | 2006-03-02 00:23:36 | 3                   | 20.28641            | 4.967406            |\n",
       "| 1777                | 3342                | 2006-02-17 21:24:05 | 1                   | 21.49398            | 6.963292            |\n",
       "| 1777                | 4521                | 2006-02-26 08:16:45 | 3                   | 15.16055            | 5.250180            |\n",
       "\n"
      ],
      "text/plain": [
       "  player_id game_id time_end            team mean     std     \n",
       "1 1777      3299    2006-02-14 21:24:28 1    22.45894 7.370519\n",
       "2 1777      5138    2006-03-03 03:52:46 1    16.00676 4.276113\n",
       "3 1777      4045    2006-02-22 04:59:02 1    21.38376 6.303238\n",
       "4 1777      4806    2006-03-02 00:23:36 3    20.28641 4.967406\n",
       "5 1777      3342    2006-02-17 21:24:05 1    21.49398 6.963292\n",
       "6 1777      4521    2006-02-26 08:16:45 3    15.16055 5.250180"
      ]
     },
     "metadata": {},
     "output_type": "display_data"
    }
   ],
   "source": [
    "solo_data <- read.csv(\"solo.csv\")\n",
    "head(solo_data)"
   ]
  },
  {
   "cell_type": "markdown",
   "metadata": {},
   "source": [
    "Both `mean` and `std` are skill statistics generated using [Trueskill](https://www.microsoft.com/en-us/research/project/trueskill-ranking-system).\n",
    "For more details, please see [Landfried et al. (2019)](https://doi.org/10.1371/journal.pone.0211014)."
   ]
  },
  {
   "cell_type": "markdown",
   "metadata": {},
   "source": [
    "## Distribution of gaming frequency\n",
    "For a better overview of the data, I'd like to how many games are recorded per solo player. \n",
    "Therefore, I group the datagrame by `player_id` and count the frequencies:"
   ]
  },
  {
   "cell_type": "code",
   "execution_count": 3,
   "metadata": {},
   "outputs": [
    {
     "data": {
      "text/html": [
       "<table>\n",
       "<thead><tr><th scope=col>Var1</th><th scope=col>Freq</th></tr></thead>\n",
       "<tbody>\n",
       "\t<tr><td>1408</td><td>35  </td></tr>\n",
       "\t<tr><td>1777</td><td>10  </td></tr>\n",
       "\t<tr><td>3195</td><td>11  </td></tr>\n",
       "\t<tr><td>3303</td><td>20  </td></tr>\n",
       "\t<tr><td>3651</td><td>12  </td></tr>\n",
       "\t<tr><td>3652</td><td>12  </td></tr>\n",
       "</tbody>\n",
       "</table>\n"
      ],
      "text/latex": [
       "\\begin{tabular}{r|ll}\n",
       " Var1 & Freq\\\\\n",
       "\\hline\n",
       "\t 1408 & 35  \\\\\n",
       "\t 1777 & 10  \\\\\n",
       "\t 3195 & 11  \\\\\n",
       "\t 3303 & 20  \\\\\n",
       "\t 3651 & 12  \\\\\n",
       "\t 3652 & 12  \\\\\n",
       "\\end{tabular}\n"
      ],
      "text/markdown": [
       "\n",
       "| Var1 | Freq |\n",
       "|---|---|\n",
       "| 1408 | 35   |\n",
       "| 1777 | 10   |\n",
       "| 3195 | 11   |\n",
       "| 3303 | 20   |\n",
       "| 3651 | 12   |\n",
       "| 3652 | 12   |\n",
       "\n"
      ],
      "text/plain": [
       "  Var1 Freq\n",
       "1 1408 35  \n",
       "2 1777 10  \n",
       "3 3195 11  \n",
       "4 3303 20  \n",
       "5 3651 12  \n",
       "6 3652 12  "
      ]
     },
     "metadata": {},
     "output_type": "display_data"
    }
   ],
   "source": [
    "freq_per_player <- data.frame(table(solo_data$player_id))\n",
    "head(freq_per_player)"
   ]
  },
  {
   "cell_type": "markdown",
   "metadata": {},
   "source": [
    "Next, I plot a histgram to demonstrate the pattern:"
   ]
  },
  {
   "cell_type": "code",
   "execution_count": 8,
   "metadata": {},
   "outputs": [
    {
     "data": {
      "image/png": "[encoded data removed]",
      "text/plain": [
       "plot without title"
      ]
     },
     "metadata": {},
     "output_type": "display_data"
    }
   ],
   "source": [
    "# install.packages(\"ggplot2\")\n",
    "library(ggplot2)\n",
    "ggplot(freq_per_player, aes(x=Freq)) + \n",
    "    geom_histogram(binwidth=1, colour=\"darkblue\", fill=\"lightblue\", alpha=\"0.5\", linetype=\"dashed\")+\n",
    "    labs(title=\"Distribution of solo player's gaming frequency\",x=\"Total games\", y = \"# of players\") + \n",
    "    scale_x_continuous(breaks=seq(min(freq_per_player$Freq), max(freq_per_player$Freq), by=5))+\n",
    "    scale_y_continuous(breaks=seq(0, 999, by=5))+ # max freq unknown: 999\n",
    "    theme_classic() +\n",
    "    theme(plot.title = element_text(hjust = 0.5), aspect.ratio=2/(1+sqrt(5))) # aspect: golden ratio\n"
   ]
  },
  {
   "cell_type": "markdown",
   "metadata": {},
   "source": [
    "As shown in the above figure, there exists an obvious *long-tail* phnonmenon in our data, i.e., most solo players merely played less than 20 games before quitting. \n",
    "In future it might be interesting to investigate whether the level of teamwork involvement affects the willingness of long-term participation."
   ]
  },
  {
   "cell_type": "markdown",
   "metadata": {},
   "source": [
    "## Learning curve\n",
    "In this part, I focus on the trend of learning.\n",
    "First, like in the previous section, I player-wisely group the dataframe. \n",
    "Further, in each group I rank row in the time of order."
   ]
  },
  {
   "cell_type": "code",
   "execution_count": 9,
   "metadata": {},
   "outputs": [],
   "source": [
    "library(plyr)\n",
    "data_per_player <- dlply(solo_data, \"player_id\", function(solo_data) \n",
    "solo_data[order(as.Date(solo_data$time_end, format=\"%Y-%m-%d %H:%M:%S\")),])"
   ]
  },
  {
   "cell_type": "markdown",
   "metadata": {},
   "source": [
    "To utilise all the data points, when making the fit I only consider the first 10 games of each player.\n",
    "Then, I averge everyone's skill score per time step:"
   ]
  },
  {
   "cell_type": "code",
   "execution_count": 10,
   "metadata": {},
   "outputs": [],
   "source": [
    "# for data of each player: mark the index of games & preserve the first 10\n",
    "add_index <- function(item){\n",
    "    item$index_id <- seq.int(nrow(item))\n",
    "    item <- head(item,10)\n",
    "    return(item)\n",
    "}\n",
    "\n",
    "data_per_player <- ldply(data_per_player, add_index)\n",
    "meaned_data <- aggregate(data_per_player$mean, by=list(index_id=data_per_player$index_id), FUN=mean)  # get averge socre"
   ]
  },
  {
   "cell_type": "markdown",
   "metadata": {},
   "source": [
    "I find that the 10 data points can be well fitted using a degree 2 polynomial:"
   ]
  },
  {
   "cell_type": "code",
   "execution_count": 11,
   "metadata": {},
   "outputs": [
    {
     "data": {
      "image/png": "[encoded data removed]",
      "text/plain": [
       "plot without title"
      ]
     },
     "metadata": {},
     "output_type": "display_data"
    }
   ],
   "source": [
    "ggplot(meaned_data, aes(x=index_id, y=x)) + \n",
    "    geom_point(shape=18, color=\"darkred\", size = 4)+\n",
    "    geom_smooth(method=lm, formula = y ~ poly(x, 2), linetype=\"dashed\", color=\"darkblue\", fill=\"lightblue\", alpha='0.5') +\n",
    "    labs(title=\"Learning curve of solo player\",x=\"Games played\", y = \"Skill score\") + \n",
    "    scale_x_continuous(breaks=seq(0, min(freq_per_player$Freq), by=1))+\n",
    "    scale_y_continuous(breaks=seq(0, 999, by=0.5))+ # range unknown: (0,999)\n",
    "    theme_classic() +\n",
    "    theme(plot.title = element_text(hjust = 0.5), aspect.ratio=2/(1+sqrt(5))) # aspect: golden ratio"
   ]
  },
  {
   "cell_type": "markdown",
   "metadata": {},
   "source": []
  },
  {
   "cell_type": "markdown",
   "metadata": {},
   "source": [
    "This dataset is in line with the law of practice; players improve their performance with experience gaining. \n",
    "The experience of each player is represented by the number of games played. \n",
    "The average skill is reported. \n",
    "The band represents the standard error."
   ]
  }
 ],
 "metadata": {
  "kernelspec": {
   "display_name": "R",
   "language": "R",
   "name": "ir"
  },
  "language_info": {
   "codemirror_mode": "r",
   "file_extension": ".r",
   "mimetype": "text/x-r-source",
   "name": "R",
   "pygments_lexer": "r",
   "version": "3.6.1"
  }
 },
 "nbformat": 4,
 "nbformat_minor": 2
}
