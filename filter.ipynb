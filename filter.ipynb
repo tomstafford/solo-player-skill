{
 "cells": [
  {
   "cell_type": "markdown",
   "metadata": {},
   "source": [
    "## Export original database\n",
    "The original data is stored in a huge PostgreSQL textual dump.\n",
    "After configuring the database, I embed my a SQL query into an export command:\n",
    "```.\\psql.exe copy public.play (player_id, game_id, time_end, team, mean, std) TO play_data.csv CSV HEADER ENCODING 'UTF8' QUOTE '\\\"' ESCAPE '''';```\n",
    "\n",
    "The exported table is still quite large (2 GB).\n",
    "Please access [Google Drive](https://drive.google.com/open?id=1g-_AF9FdiUhvbGJ3hLizM9ujKkGq8vnT) to download it.\n",
    "Using my PC, I cannot process this table as a R dataframe.\n",
    "As a result, I turn to Python to read & filter the data."
   ]
  },
  {
   "cell_type": "markdown",
   "metadata": {},
   "source": [
    "## Filter\n",
    "My pipeline contains three steps:\n",
    " 1. find the `game_id`s which have multi-player teams;\n",
    " 2. find solo players who never enter these games;\n",
    " 3. find the solo players who have at least `MIN_FREQ` records."
   ]
  },
  {
   "cell_type": "code",
   "execution_count": null,
   "metadata": {},
   "outputs": [],
   "source": [
    "# step 1\n",
    "def group_game_finder(table_path):\n",
    "    game_team_set = set()\n",
    "    group_game_set = set()\n",
    "\n",
    "    target_file = open(table_path, \"r\")\n",
    "    header = target_file.readline()\n",
    "    line = target_file.readline().strip().split(\",\")\n",
    "    while len(line) > 2:\n",
    "        game_id = int(line[1])\n",
    "        team = int(line[3])\n",
    "\n",
    "        if (game_id, team) in game_team_set:  # in at least one team, there are two players\n",
    "            group_game_set.add(game_id)\n",
    "        game_team_set.add((game_id, team))\n",
    "\n",
    "        line = target_file.readline().strip().split(\",\")\n",
    "\n",
    "    target_file.close()\n",
    "    return group_game_set"
   ]
  },
  {
   "cell_type": "code",
   "execution_count": null,
   "metadata": {},
   "outputs": [],
   "source": [
    "# step 2\n",
    "def solo_player_finder(table_path, group_game_set):\n",
    "    team_player_set = set()\n",
    "    all_player_set = set()\n",
    "\n",
    "    target_file = open(table_path, \"r\")\n",
    "    header = target_file.readline()\n",
    "    line = target_file.readline().strip().split(\",\")\n",
    "    while len(line) > 2:\n",
    "        player_id = int(line[0])\n",
    "        game_id = int(line[1])\n",
    "\n",
    "        all_player_set.add(player_id)\n",
    "        if game_id in group_game_set:\n",
    "            team_player_set.add(player_id) # have played in a \"group game\" for at least once\n",
    "\n",
    "        line = target_file.readline().strip().split(\",\")\n",
    "\n",
    "    target_file.close()\n",
    "    return all_player_set - team_player_set"
   ]
  },
  {
   "cell_type": "code",
   "execution_count": null,
   "metadata": {},
   "outputs": [],
   "source": [
    "# excute step 1&2\n",
    "original_table_path = \"play_data.csv\"\n",
    "\n",
    "MIN_FREQ = 500\n",
    "\n",
    "solo_player_set = solo_player_finder(original_table_path, group_game_finder(original_table_path))"
   ]
  },
  {
   "cell_type": "code",
   "execution_count": null,
   "metadata": {},
   "outputs": [],
   "source": [
    "# step 3\n",
    "target_file = open(original_table_path, \"r\")\n",
    "filtered_file = open(\"solo.csv\", \"w\")\n",
    "filtered_file.write(target_file.readline())\n",
    "\n",
    "line = target_file.readline()\n",
    "solo_dict = {}\n",
    "while len(line) > 2:\n",
    "    player_id = int(line.strip().split(\",\")[0])\n",
    "    \n",
    "    # *complete (not N/A)* records of solo players  \n",
    "    if player_id in solo_player_set and min(map(len, map(str.strip, line.split(\",\")))) > 0:  \n",
    "        solo_dict.setdefault(player_id, set())\n",
    "        solo_dict[player_id].add(line)\n",
    "    line = target_file.readline()\n",
    "\n",
    "num = 0\n",
    "for item in solo_dict:\n",
    "    if 250 > len(solo_dict[item]) >= MIN_FREQ:  # why 250: I observe one outlier player who have played over 250 solo games!\n",
    "        num += 1\n",
    "        for line in solo_dict[item]:\n",
    "            filtered_file.write(line)\n",
    "\n",
    "target_file.close()\n",
    "filtered_file.close()"
   ]
  }
 ],
 "metadata": {
  "kernelspec": {
   "display_name": "Python 3",
   "language": "python",
   "name": "python3"
  }
 },
 "nbformat": 4,
 "nbformat_minor": 2
}
